{
  "nbformat": 4,
  "nbformat_minor": 0,
  "metadata": {
    "colab": {
      "name": "spiral_dataset_generator",
      "provenance": [],
      "collapsed_sections": []
    },
    "kernelspec": {
      "name": "python3",
      "display_name": "Python 3"
    },
    "language_info": {
      "name": "python"
    }
  },
  "cells": [
    {
      "cell_type": "code",
      "metadata": {
        "id": "RVKjsIEpQgMq"
      },
      "source": [
        "import numpy as np\n",
        "import torch\n",
        "import matplotlib.pyplot as plt\n",
        "%matplotlib inline"
      ],
      "execution_count": 224,
      "outputs": []
    },
    {
      "cell_type": "code",
      "metadata": {
        "id": "5-XIaPhtQiht"
      },
      "source": [
        "def generate_two_spirals_dataset(n_points, noise=.5):\n",
        "    n = np.sqrt(np.random.rand(n_points, 1)) * 780 * (2*np.pi)/360\n",
        "    d1x = -np.cos(n)*n + np.random.rand(n_points, 1) * noise\n",
        "    d1y = np.sin(n)*n + np.random.rand(n_points, 1) * noise\n",
        "    return (\n",
        "        np.vstack((np.hstack((d1x, d1y)), np.hstack((-d1x, -d1y)))),\n",
        "        np.hstack((np.zeros(n_points), np.ones(n_points)))\n",
        "    )\n",
        "\n",
        "\n",
        "def split_dataset(x, y, perc):\n",
        "    num = round(len(x) * perc)\n",
        "    return x[:num], y[:num], x[num:], y[num:]\n",
        "\n",
        "\n",
        "def get_two_spirals_data(n_points, noise=0.5):\n",
        "    # quick fix to distribution bug\n",
        "    x1, y1 = generate_two_spirals_dataset(700, noise=0.1)\n",
        "    x2, y2 = generate_two_spirals_dataset(700, noise=0.1)\n",
        "    indices1, indices2 = torch.arange(0, x1.shape[0]), torch.arange(x2.shape[0])\n",
        "    np.random.shuffle(indices1)\n",
        "    np.random.shuffle(indices2)\n",
        "    x1, y1 = x1[indices1], y1[indices1]\n",
        "    x2, y2 = x2[indices2], y2[indices2]\n",
        "\n",
        "    _, _, x_train, y_train = split_dataset(x1, y1, 0.9)\n",
        "    _, _, x_test, y_test = split_dataset(x2, y2, 0.9)\n",
        "    return x_train, y_train, x_test, y_test"
      ],
      "execution_count": 257,
      "outputs": []
    },
    {
      "cell_type": "code",
      "metadata": {
        "id": "WYO7PivcqURq"
      },
      "source": [
        "x_train, y_train, x_test, y_test = get_two_spirals_data(\n",
        "    1500, noise=0.5)\n"
      ],
      "execution_count": 258,
      "outputs": []
    },
    {
      "cell_type": "code",
      "metadata": {
        "colab": {
          "base_uri": "https://localhost:8080/"
        },
        "id": "G0XnDkUSwVcU",
        "outputId": "7ddefa79-0432-47a2-efa5-cab1ec337fd1"
      },
      "source": [
        "print(list(y_train).count(0) / len(y_train))\n",
        "print(len(y_train))\n",
        "print(list(y_test).count(0) / len(y_test))\n",
        "print(len(y_test))"
      ],
      "execution_count": 259,
      "outputs": [
        {
          "output_type": "stream",
          "text": [
            "0.5\n",
            "140\n",
            "0.5142857142857142\n",
            "140\n"
          ],
          "name": "stdout"
        }
      ]
    },
    {
      "cell_type": "code",
      "metadata": {
        "id": "WurZDM0RQkOJ"
      },
      "source": [
        "def plot_spiral_dataset(x, y):\n",
        "    plt.title('Spiral dataset')\n",
        "    one = x[y == 0, :]\n",
        "    two = x[y == 1, :]\n",
        "    plt.scatter(*zip(*one), c='red', label='class 1')\n",
        "    plt.scatter(*zip(*two), c='darkorange', label='class 2')\n",
        "\n",
        "    plt.xlim(-15, 15)\n",
        "    plt.ylim(-15, 15)\n",
        "    plt.gca().set_aspect('equal', adjustable='box')\n",
        "    plt.draw()\n",
        "\n",
        "    plt.legend()\n",
        "    plt.show()"
      ],
      "execution_count": 260,
      "outputs": []
    },
    {
      "cell_type": "code",
      "metadata": {
        "id": "7zWCH2Ik1ULA",
        "colab": {
          "base_uri": "https://localhost:8080/",
          "height": 545
        },
        "outputId": "8f97e97c-e2f9-4282-daaa-8455f1c34da2"
      },
      "source": [
        "plot_spiral_dataset(x_train, y_train)\n",
        "plot_spiral_dataset(x_test, y_test)"
      ],
      "execution_count": 261,
      "outputs": [
        {
          "output_type": "display_data",
          "data": {
            "image/png": "[encoded data removed]",
            "text/plain": [
              "<Figure size 432x288 with 1 Axes>"
            ]
          },
          "metadata": {
            "tags": [],
            "needs_background": "light"
          }
        },
        {
          "output_type": "display_data",
          "data": {
            "image/png": "[encoded data removed]",
            "text/plain": [
              "<Figure size 432x288 with 1 Axes>"
            ]
          },
          "metadata": {
            "tags": [],
            "needs_background": "light"
          }
        }
      ]
    },
    {
      "cell_type": "code",
      "metadata": {
        "id": "pTLHob4EuKxq"
      },
      "source": [
        "def save_dataset(filename, xs, ys):\n",
        "    with open(filename, 'w') as f:\n",
        "        for x, y in zip(xs, ys):\n",
        "            f.write(\"{0} {1} {2}\".format(x[0], x[1], int(y)))"
      ],
      "execution_count": 273,
      "outputs": []
    },
    {
      "cell_type": "code",
      "metadata": {
        "id": "8_qM8kbLGYlS"
      },
      "source": [
        "save_dataset(\"train_dataset.txt\", x_train, y_train)\n",
        "save_dataset(\"test_dataset.txt\", x_test, y_test)"
      ],
      "execution_count": 274,
      "outputs": []
    },
    {
      "cell_type": "code",
      "metadata": {
        "id": "p9a4kgNOG58j"
      },
      "source": [
        ""
      ],
      "execution_count": null,
      "outputs": []
    }
  ]
}